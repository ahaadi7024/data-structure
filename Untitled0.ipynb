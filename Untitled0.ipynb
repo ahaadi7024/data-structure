{
  "nbformat": 4,
  "nbformat_minor": 0,
  "metadata": {
    "colab": {
      "provenance": []
    },
    "kernelspec": {
      "name": "python3",
      "display_name": "Python 3"
    },
    "language_info": {
      "name": "python"
    }
  },
  "cells": [
    {
      "cell_type": "markdown",
      "source": [
        "Q1. what are dat structures, and why are they important?\n",
        "ans. data structures are organized way to store and manage data so it can be accessed and manipulated easily.\n",
        "\n",
        "\n",
        "Q2. Explain the difference between mutable and immutable data types with examples?\n",
        "ans. mutable data are those data types which can be changed after creating them. ex-list,dict.\n",
        "immutable data types cannot be changed after creating them. ex-tuples,strings\n",
        "\n",
        "\n",
        " Q3. What are the main differences between lists and tuples in Python?\n",
        " ans. the main differnce between list and python is list is mutable whereas tuple tuple is immutable .\n",
        "\n",
        "  Q4 Describe how dictionaries store data?\n",
        "  ans. dict store data in the form of key value pair.\n",
        "\n",
        "  Q5. Why might you use a set instead of a list in Python?\n",
        "  ans. sets automatically remove duplicate values and allows faster searches compaired to list\n",
        "\n",
        "  Q6.  What is a string in Python, and how is it different from a list?\n",
        "  ans. a string is a sequence of characters and cannot be changed whereas a list can hold hetrogenous data and can be changed after creating them.\n",
        "\n",
        "  Q7.How do tuples ensure data integrity in Python?\n",
        "  ans. tuples are immutable,so there value cannot be chnaged ,which helps keep data safe and consistent.\n",
        "\n",
        "  Q8. What is a hash table, and how does it relate to dictionaries in Python?\n",
        "  ans. a hash table stores data using a unique key converted into a number by a hashing function. dictionaries in python use hash tables to quickly find values using keys.\n",
        "\n",
        "  Q9. Can lists contain different data types in Python?\n",
        "  ans.yes\n",
        "\n",
        "\n",
        "Q10 Explain why strings are immutable in Python?\n",
        "ans. strings are immutable so they cannot be accidently chnaged,which improves relaibility and performance.\n",
        "\n",
        "\n",
        "Q11 What advantages do dictionaries offer over lists for certain tasks?\n",
        "ans.dictionaries allow faster lookups using keys,and clearer relationships between data items.\n",
        "\n",
        "Q12.Describe a scenario where using a tuple would be preferable over a list?\n",
        "ans.saving adhaar card number.\n",
        "\n",
        "Q13.How do sets handle duplicate values in Python?\n",
        "ans.sets automatically remove duplicate values and keep only unique elements.\n",
        "\n",
        "Q14. How does the “in” keyword work differently for lists and dictionaries?\n",
        "ans.in lists,it checks if an item exist\n",
        "but in dict,it checks if key exist.\n",
        "\n",
        "Q15.Can you modify the elements of a tuple? Explain why or why not?\n",
        "ans.no,tuple is immutable that means once they are created they cannot be modified\n",
        "\n",
        "Q16.What is a nested dictionary, and give an example of its use case?\n",
        "ans.a nested dictionary is a dictionary inside another dictionary.\n",
        "it is used to store structured data like student records or product details.\n",
        "\n",
        "Q17.Describe the time complexity of accessing elements in a dictionary?\n",
        "ans.accessing elements in dictionary is very fast,with an average time complexity of 0(1)\n",
        "\n",
        "\n",
        "Q18.In what situations are lists preferred over dictionaries?\n",
        "ans.lists are preffered when data needs to be stored in order or when there are no key value relationships.\n",
        "\n",
        "Q19.Why are dictionaries considered unordered, and how does that affect data retrieval?\n",
        "ans.dictionaries do not rely on the order of data,instead they use keys for retrieval.this means you can access items by names, not position.\n",
        "\n",
        "Q20 Explain the difference between a list and a dictionary in terms of data retrieval.\n",
        "ans.a list retrievs data using positions(indexes),while dictionary retrieves data using keys.\n",
        "\n",
        "\n",
        "\n",
        "\n",
        "\n",
        "\n",
        "\n"
      ],
      "metadata": {
        "id": "_zaaPNF-hPvu"
      }
    },
    {
      "cell_type": "markdown",
      "source": [],
      "metadata": {
        "id": "vJB3TgoeuCpa"
      }
    },
    {
      "cell_type": "markdown",
      "source": [
        "PRACTICAL QUISTIONS"
      ],
      "metadata": {
        "id": "PIMb5onvt29-"
      }
    },
    {
      "cell_type": "markdown",
      "source": [
        "Q1.Write a code to create a string with your name and print it."
      ],
      "metadata": {
        "id": "Cpshph17tvc-"
      }
    },
    {
      "cell_type": "code",
      "source": [
        "name = \"abdul hadi ansari\"\n",
        "print(name)"
      ],
      "metadata": {
        "colab": {
          "base_uri": "https://localhost:8080/"
        },
        "id": "VuW3Z_yiuKcY",
        "outputId": "aef15ee3-59c0-4def-ef96-71d65ef3f903"
      },
      "execution_count": null,
      "outputs": [
        {
          "output_type": "stream",
          "name": "stdout",
          "text": [
            "abdul hadi ansari\n"
          ]
        }
      ]
    },
    {
      "cell_type": "markdown",
      "source": [
        "Q2.Write a code to find the length of the string \"Hello World\"."
      ],
      "metadata": {
        "id": "QYjeNxyzufUe"
      }
    },
    {
      "cell_type": "code",
      "source": [
        "\"helloworld\"\n",
        "print(len(\"helloworld\"))"
      ],
      "metadata": {
        "colab": {
          "base_uri": "https://localhost:8080/"
        },
        "id": "ZBRGWBLEtptS",
        "outputId": "09229675-38e4-4992-8d30-a5e6d0e849e2"
      },
      "execution_count": null,
      "outputs": [
        {
          "output_type": "stream",
          "name": "stdout",
          "text": [
            "10\n"
          ]
        }
      ]
    },
    {
      "cell_type": "markdown",
      "source": [
        "Q3 Write a code to slice the first 3 characters from the string \"Python Programming\"."
      ],
      "metadata": {
        "id": "IBYM_Miju_T9"
      }
    },
    {
      "cell_type": "code",
      "source": [
        "string = \"python programming\"\n",
        "string[3:]"
      ],
      "metadata": {
        "colab": {
          "base_uri": "https://localhost:8080/",
          "height": 36
        },
        "id": "OPDBY8JmvHqu",
        "outputId": "f00e7866-f024-44a5-e338-a7e6a34e6ab6"
      },
      "execution_count": null,
      "outputs": [
        {
          "output_type": "execute_result",
          "data": {
            "text/plain": [
              "'hon programming'"
            ],
            "application/vnd.google.colaboratory.intrinsic+json": {
              "type": "string"
            }
          },
          "metadata": {},
          "execution_count": 6
        }
      ]
    },
    {
      "cell_type": "markdown",
      "source": [
        "Q4 Write a code to convert the string \"hello\" to uppercase."
      ],
      "metadata": {
        "id": "kCVWmeqavuOh"
      }
    },
    {
      "cell_type": "code",
      "source": [
        "string = \"hello\"\n",
        "string.upper()"
      ],
      "metadata": {
        "colab": {
          "base_uri": "https://localhost:8080/",
          "height": 36
        },
        "id": "D0lFD-GPv-Dr",
        "outputId": "5afde664-982a-4726-f627-eb2bf126ddfe"
      },
      "execution_count": null,
      "outputs": [
        {
          "output_type": "execute_result",
          "data": {
            "text/plain": [
              "'HELLO'"
            ],
            "application/vnd.google.colaboratory.intrinsic+json": {
              "type": "string"
            }
          },
          "metadata": {},
          "execution_count": 7
        }
      ]
    },
    {
      "cell_type": "markdown",
      "source": [
        "\n",
        "Q5.Write a code to replace the word \"apple\" with \"orange\" in the string \"I like apple\"."
      ],
      "metadata": {
        "id": "yhs7rjjowQqu"
      }
    },
    {
      "cell_type": "code",
      "source": [
        "string = \"i like apple\"\n",
        "string.replace(\"apple\",\"orange\")"
      ],
      "metadata": {
        "colab": {
          "base_uri": "https://localhost:8080/",
          "height": 36
        },
        "id": "5LYCIII2wP0R",
        "outputId": "751b01e2-87c7-479c-af79-d7ceeaf5703a"
      },
      "execution_count": null,
      "outputs": [
        {
          "output_type": "execute_result",
          "data": {
            "text/plain": [
              "'i like orange'"
            ],
            "application/vnd.google.colaboratory.intrinsic+json": {
              "type": "string"
            }
          },
          "metadata": {},
          "execution_count": 8
        }
      ]
    },
    {
      "cell_type": "markdown",
      "source": [
        "Q6 Write a code to create a list with numbers 1 to 5 and print it."
      ],
      "metadata": {
        "id": "QKMR0-FFw7jJ"
      }
    },
    {
      "cell_type": "code",
      "source": [
        "list = [1,2,3,4,5]\n",
        "print(list)"
      ],
      "metadata": {
        "colab": {
          "base_uri": "https://localhost:8080/"
        },
        "id": "TowlIE9axOWW",
        "outputId": "d8304e58-db60-42dc-c37c-5a582f9756ae"
      },
      "execution_count": null,
      "outputs": [
        {
          "output_type": "stream",
          "name": "stdout",
          "text": [
            "[1, 2, 3, 4, 5]\n"
          ]
        }
      ]
    },
    {
      "cell_type": "markdown",
      "source": [
        "Q7.Write a code to append the number 10 to the list [1, 2, 3, 4]."
      ],
      "metadata": {
        "id": "S_VlhipQxZfw"
      }
    },
    {
      "cell_type": "code",
      "source": [
        "list = [1,2,3,4]\n",
        "list.append(\"10\")\n",
        "print(list)"
      ],
      "metadata": {
        "colab": {
          "base_uri": "https://localhost:8080/"
        },
        "id": "jKc3mtAkxq9j",
        "outputId": "c18474c9-29a4-43a1-c68d-f080a0ff8a55"
      },
      "execution_count": null,
      "outputs": [
        {
          "output_type": "stream",
          "name": "stdout",
          "text": [
            "[1, 2, 3, 4, '10']\n"
          ]
        }
      ]
    },
    {
      "cell_type": "markdown",
      "source": [
        "Q8.Write a code to remove the number 3 from the list [1, 2, 3, 4, 5]."
      ],
      "metadata": {
        "id": "XnKDGZcSyNkW"
      }
    },
    {
      "cell_type": "code",
      "source": [
        "list = [1,2,3,4,5]\n",
        "list.remove(3)\n",
        "print(list)"
      ],
      "metadata": {
        "colab": {
          "base_uri": "https://localhost:8080/"
        },
        "id": "TDgUbVoLyUfS",
        "outputId": "fb1514c5-1fb6-4e3b-fc22-9c4dac3ef1e3"
      },
      "execution_count": null,
      "outputs": [
        {
          "output_type": "stream",
          "name": "stdout",
          "text": [
            "[1, 2, 4, 5]\n"
          ]
        }
      ]
    },
    {
      "cell_type": "markdown",
      "source": [
        "Q9.Write a code to access the second element in the list ['a', 'b', 'c', 'd']."
      ],
      "metadata": {
        "id": "ZoEIkJE9y4j3"
      }
    },
    {
      "cell_type": "code",
      "source": [
        "list = ['a', 'b', 'c', 'd']\n",
        "list[-3]"
      ],
      "metadata": {
        "colab": {
          "base_uri": "https://localhost:8080/",
          "height": 36
        },
        "id": "_fN2Ut7VzBPg",
        "outputId": "e715ca29-ddb1-48f3-e176-06e3ffd44210"
      },
      "execution_count": null,
      "outputs": [
        {
          "output_type": "execute_result",
          "data": {
            "text/plain": [
              "'b'"
            ],
            "application/vnd.google.colaboratory.intrinsic+json": {
              "type": "string"
            }
          },
          "metadata": {},
          "execution_count": 17
        }
      ]
    },
    {
      "cell_type": "markdown",
      "source": [
        "Q10. Write a code to reverse the list [10, 20, 30, 40, 50]."
      ],
      "metadata": {
        "id": "OSIGnrVdz8WR"
      }
    },
    {
      "cell_type": "code",
      "source": [
        "list = [10,20,30,40,50]\n",
        "list.reverse()\n",
        "print(list)"
      ],
      "metadata": {
        "colab": {
          "base_uri": "https://localhost:8080/"
        },
        "id": "x2lyFpLs0LF2",
        "outputId": "c78e87fd-2bc6-4d0b-9eaa-d34a505dd2fd"
      },
      "execution_count": null,
      "outputs": [
        {
          "output_type": "stream",
          "name": "stdout",
          "text": [
            "[50, 40, 30, 20, 10]\n"
          ]
        }
      ]
    },
    {
      "cell_type": "markdown",
      "source": [
        "11. Write a code to create a tuple with the elements 100, 200, 300 and print it."
      ],
      "metadata": {
        "id": "ETrPIs1TZ_Dx"
      }
    },
    {
      "cell_type": "code",
      "source": [
        "tuple = (100,200,300)\n",
        "print(tuple)"
      ],
      "metadata": {
        "colab": {
          "base_uri": "https://localhost:8080/"
        },
        "id": "FlJYyEWhaFwa",
        "outputId": "52d4d19a-621d-45e4-b815-de4aaa76dba5"
      },
      "execution_count": 2,
      "outputs": [
        {
          "output_type": "stream",
          "name": "stdout",
          "text": [
            "(100, 200, 300)\n"
          ]
        }
      ]
    },
    {
      "cell_type": "markdown",
      "source": [
        "12. Write a code to access the second-to-last element of the tuple ('red', 'green', 'blue', 'yellow')."
      ],
      "metadata": {
        "id": "H6-uUCGiac2g"
      }
    },
    {
      "cell_type": "code",
      "source": [
        "tuple = ('red','green','blue','yellow')\n",
        "tuple[1:4]"
      ],
      "metadata": {
        "colab": {
          "base_uri": "https://localhost:8080/"
        },
        "id": "fBPRKKzWaiJl",
        "outputId": "faa70a0f-0702-462e-8edc-b45cb7519ace"
      },
      "execution_count": 3,
      "outputs": [
        {
          "output_type": "execute_result",
          "data": {
            "text/plain": [
              "('green', 'blue', 'yellow')"
            ]
          },
          "metadata": {},
          "execution_count": 3
        }
      ]
    },
    {
      "cell_type": "markdown",
      "source": [
        "13. Write a code to find the minimum number in the tuple (10, 20, 5, 15)."
      ],
      "metadata": {
        "id": "q06olEk5bHB2"
      }
    },
    {
      "cell_type": "code",
      "source": [
        "tuple = (10,20,5,15)\n",
        "min(tuple)"
      ],
      "metadata": {
        "colab": {
          "base_uri": "https://localhost:8080/"
        },
        "id": "dXKUFOYkbKqB",
        "outputId": "df4c5769-fbed-42ae-851d-4696c10b9bad"
      },
      "execution_count": 4,
      "outputs": [
        {
          "output_type": "execute_result",
          "data": {
            "text/plain": [
              "5"
            ]
          },
          "metadata": {},
          "execution_count": 4
        }
      ]
    },
    {
      "cell_type": "markdown",
      "source": [
        "14. Write a code to find the index of the element \"cat\" in the tuple ('dog', 'cat', 'rabbit')."
      ],
      "metadata": {
        "id": "ieYOWr2rbdnA"
      }
    },
    {
      "cell_type": "code",
      "source": [
        "tuple = ('dog','cat','rabbit')\n",
        "tuple.index('cat')"
      ],
      "metadata": {
        "colab": {
          "base_uri": "https://localhost:8080/"
        },
        "id": "EHlQP6B2bhuz",
        "outputId": "cab8ac6e-5ee9-4bce-f685-6ef1a3c6cc9b"
      },
      "execution_count": 9,
      "outputs": [
        {
          "output_type": "execute_result",
          "data": {
            "text/plain": [
              "1"
            ]
          },
          "metadata": {},
          "execution_count": 9
        }
      ]
    },
    {
      "cell_type": "markdown",
      "source": [
        "15. Write a code to create a tuple containing three different fruits and check if \"kiwi\" is in it."
      ],
      "metadata": {
        "id": "wfO9rGtvcH6h"
      }
    },
    {
      "cell_type": "code",
      "source": [
        "tuple = ('apple','banana','kiwi')\n",
        "print('kiwi' in tuple)"
      ],
      "metadata": {
        "colab": {
          "base_uri": "https://localhost:8080/"
        },
        "id": "prL9KIFucLKo",
        "outputId": "712d001a-3e8a-4348-f8d8-3f5bad2adf9e"
      },
      "execution_count": 10,
      "outputs": [
        {
          "output_type": "stream",
          "name": "stdout",
          "text": [
            "True\n"
          ]
        }
      ]
    },
    {
      "cell_type": "markdown",
      "source": [
        "16. Write a code to create a set with the elements 'a', 'b', 'c' and print it."
      ],
      "metadata": {
        "id": "KwYZQFKQc-td"
      }
    },
    {
      "cell_type": "code",
      "source": [
        "s = {'a','b','c'}\n",
        "type(s)"
      ],
      "metadata": {
        "colab": {
          "base_uri": "https://localhost:8080/"
        },
        "id": "aZZeAk0rc9p2",
        "outputId": "0a840a61-66ec-464c-9a7d-88bfcd249be3"
      },
      "execution_count": 11,
      "outputs": [
        {
          "output_type": "execute_result",
          "data": {
            "text/plain": [
              "set"
            ]
          },
          "metadata": {},
          "execution_count": 11
        }
      ]
    },
    {
      "cell_type": "markdown",
      "source": [
        "17. Write a code to clear all elements from the set {1, 2, 3, 4, 5}."
      ],
      "metadata": {
        "id": "QRcAYy-JeHjO"
      }
    },
    {
      "cell_type": "code",
      "source": [
        "s = {1,2,3,4,5}\n",
        "s.clear()\n",
        "print(s)"
      ],
      "metadata": {
        "colab": {
          "base_uri": "https://localhost:8080/"
        },
        "id": "-IqZAf2WeCWf",
        "outputId": "569e2e55-02df-44b5-9281-613b1af02b9b"
      },
      "execution_count": 14,
      "outputs": [
        {
          "output_type": "stream",
          "name": "stdout",
          "text": [
            "set()\n"
          ]
        }
      ]
    },
    {
      "cell_type": "markdown",
      "source": [
        "19. Write a code to find the union of two sets {1, 2, 3} and {3, 4, 5}."
      ],
      "metadata": {
        "id": "6kMohNoWeeud"
      }
    },
    {
      "cell_type": "code",
      "source": [
        "s1 = {1,2,3}\n",
        "s2 ={3,4,5}\n",
        "print(s1|s2)"
      ],
      "metadata": {
        "colab": {
          "base_uri": "https://localhost:8080/"
        },
        "id": "_QdVUAkYejaY",
        "outputId": "81c6e833-6a1b-4724-e9aa-3da626158b62"
      },
      "execution_count": 16,
      "outputs": [
        {
          "output_type": "stream",
          "name": "stdout",
          "text": [
            "{1, 2, 3, 4, 5}\n"
          ]
        }
      ]
    },
    {
      "cell_type": "markdown",
      "source": [
        "20. Write a code to find the intersection of two sets {1, 2, 3} and {2, 3, 4}."
      ],
      "metadata": {
        "id": "XfZsnn1wfel-"
      }
    },
    {
      "cell_type": "code",
      "source": [
        "s1 = {1,2,3}\n",
        "s2 ={2,3,4}\n",
        "print(s1&s2)"
      ],
      "metadata": {
        "colab": {
          "base_uri": "https://localhost:8080/"
        },
        "id": "z1YRn_BrfjwW",
        "outputId": "82dda886-6516-4a0d-836a-a3169cabcde3"
      },
      "execution_count": 17,
      "outputs": [
        {
          "output_type": "stream",
          "name": "stdout",
          "text": [
            "{2, 3}\n"
          ]
        }
      ]
    },
    {
      "cell_type": "markdown",
      "source": [
        "21. Write a code to create a dictionary with the keys \"name\", \"age\", and \"city\", and print it."
      ],
      "metadata": {
        "id": "eZksHi3eqVeX"
      }
    },
    {
      "cell_type": "code",
      "source": [
        "d = {\"name\": \"\", \"age\": None, \"city\": \"\"}\n",
        "print(d)"
      ],
      "metadata": {
        "colab": {
          "base_uri": "https://localhost:8080/"
        },
        "id": "NWYkC4-wqYPm",
        "outputId": "1d39b1fa-319e-4540-8dff-8ec91ad174b8"
      },
      "execution_count": 23,
      "outputs": [
        {
          "output_type": "stream",
          "name": "stdout",
          "text": [
            "{'name': '', 'age': None, 'city': ''}\n"
          ]
        }
      ]
    },
    {
      "cell_type": "markdown",
      "source": [
        "22. Write a code to add a new key-value pair \"country\": \"USA\" to the dictionary {'name': 'John', 'age': 25}"
      ],
      "metadata": {
        "id": "PEn3kRRuqxrS"
      }
    },
    {
      "cell_type": "code",
      "source": [
        "d = {'name': 'John', 'age': 25}\n",
        "d['country'] = 'USA'\n",
        "print(d)"
      ],
      "metadata": {
        "colab": {
          "base_uri": "https://localhost:8080/"
        },
        "id": "FzoIcs7rq6KR",
        "outputId": "6f84ae3d-4edf-4e3e-fcd5-b233bfa99cc4"
      },
      "execution_count": 24,
      "outputs": [
        {
          "output_type": "stream",
          "name": "stdout",
          "text": [
            "{'name': 'John', 'age': 25, 'country': 'USA'}\n"
          ]
        }
      ]
    },
    {
      "cell_type": "markdown",
      "source": [
        "23. Write a code to access the value associated with the key \"name\" in the dictionary {'name': 'Alice', 'age': 30}."
      ],
      "metadata": {
        "id": "19Sa3-5proX-"
      }
    },
    {
      "cell_type": "code",
      "source": [
        "d = {'name':'alice' ,'age':'30'}\n",
        "d['name']"
      ],
      "metadata": {
        "colab": {
          "base_uri": "https://localhost:8080/",
          "height": 36
        },
        "id": "p0Br1laart8u",
        "outputId": "d399498d-c51d-4a10-e547-74019f342a2d"
      },
      "execution_count": 26,
      "outputs": [
        {
          "output_type": "execute_result",
          "data": {
            "text/plain": [
              "'alice'"
            ],
            "application/vnd.google.colaboratory.intrinsic+json": {
              "type": "string"
            }
          },
          "metadata": {},
          "execution_count": 26
        }
      ]
    },
    {
      "cell_type": "markdown",
      "source": [
        "24. Write a code to remove the key \"age\" from the dictionary {'name': 'Bob', 'age': 22, 'city': 'New York'}."
      ],
      "metadata": {
        "id": "_PKvFeN7se_Z"
      }
    },
    {
      "cell_type": "code",
      "source": [
        "d = {'name': 'bob', 'age': 22 , 'city': 'new york'}\n",
        "del d['age']\n",
        "print(d)"
      ],
      "metadata": {
        "colab": {
          "base_uri": "https://localhost:8080/"
        },
        "id": "zEsH36v9sh6D",
        "outputId": "09b45326-682b-418b-9334-edef154fe67d"
      },
      "execution_count": 28,
      "outputs": [
        {
          "output_type": "stream",
          "name": "stdout",
          "text": [
            "{'name': 'bob', 'city': 'new york'}\n"
          ]
        }
      ]
    },
    {
      "cell_type": "markdown",
      "source": [
        "25. Write a code to check if the key \"city\" exists in the dictionary {'name': 'Alice', 'city': 'Paris'}."
      ],
      "metadata": {
        "id": "teEuRSH5tJnh"
      }
    },
    {
      "cell_type": "code",
      "source": [
        "d = {'name': 'Alice', 'city': 'Paris'}\n",
        "print('city' in d)"
      ],
      "metadata": {
        "colab": {
          "base_uri": "https://localhost:8080/"
        },
        "id": "ABPTlrZltNbg",
        "outputId": "154b9df4-e304-4d79-a710-054207932b32"
      },
      "execution_count": 29,
      "outputs": [
        {
          "output_type": "stream",
          "name": "stdout",
          "text": [
            "True\n"
          ]
        }
      ]
    },
    {
      "cell_type": "markdown",
      "source": [
        "26. Write a code to create a list, a tuple, and a dictionary, and print them all."
      ],
      "metadata": {
        "id": "G2ytcrQOtWs9"
      }
    },
    {
      "cell_type": "code",
      "source": [],
      "metadata": {
        "id": "AGnCL5xNtV2X"
      },
      "execution_count": null,
      "outputs": []
    },
    {
      "cell_type": "code",
      "metadata": {
        "colab": {
          "base_uri": "https://localhost:8080/"
        },
        "id": "9c1751e2",
        "outputId": "fe0faf6c-9f51-4a8f-bc57-cb199e5d53a8"
      },
      "source": [
        "my_list = [1, 2, 3, 4, 5]\n",
        "my_tuple = (10, 20, 30, 40, 50)\n",
        "my_dict = {\"a\": 1, \"b\": 2, \"c\": 3}\n",
        "\n",
        "print(\"List:\", my_list)\n",
        "print(\"Tuple:\", my_tuple)\n",
        "print(\"Dictionary:\", my_dict)"
      ],
      "execution_count": 30,
      "outputs": [
        {
          "output_type": "stream",
          "name": "stdout",
          "text": [
            "List: [1, 2, 3, 4, 5]\n",
            "Tuple: (10, 20, 30, 40, 50)\n",
            "Dictionary: {'a': 1, 'b': 2, 'c': 3}\n"
          ]
        }
      ]
    },
    {
      "cell_type": "markdown",
      "source": [
        "27. Write a code to create a list of 5 random numbers between 1 and 100, sort it in ascending order, and print the\n",
        "result.(replaced)."
      ],
      "metadata": {
        "id": "oa3GHKJPuFV3"
      }
    },
    {
      "cell_type": "markdown",
      "source": [],
      "metadata": {
        "id": "u8CDlzK8uFSB"
      }
    },
    {
      "cell_type": "code",
      "source": [],
      "metadata": {
        "id": "eH6JEjDnuBFj"
      },
      "execution_count": null,
      "outputs": []
    },
    {
      "cell_type": "markdown",
      "source": [
        "28. Write a code to create a list with strings and print the element at the third index"
      ],
      "metadata": {
        "id": "PESU5uaRudfo"
      }
    },
    {
      "cell_type": "code",
      "source": [],
      "metadata": {
        "id": "cUbtV6bpusRL"
      },
      "execution_count": null,
      "outputs": []
    },
    {
      "cell_type": "code",
      "metadata": {
        "colab": {
          "base_uri": "https://localhost:8080/"
        },
        "id": "a0c38466",
        "outputId": "94c1fa3f-5862-4a59-d40a-aefc212e7fa1"
      },
      "source": [
        "my_list = [\"apple\", \"banana\", \"cherry\", \"date\", \"elderberry\"]\n",
        "print(my_list[2])"
      ],
      "execution_count": 31,
      "outputs": [
        {
          "output_type": "stream",
          "name": "stdout",
          "text": [
            "cherry\n"
          ]
        }
      ]
    },
    {
      "cell_type": "markdown",
      "source": [
        "29. Write a code to combine two dictionaries into one and print the result."
      ],
      "metadata": {
        "id": "R979bCHnvHGL"
      }
    },
    {
      "cell_type": "code",
      "source": [],
      "metadata": {
        "id": "XV5LhqNwvEp9"
      },
      "execution_count": null,
      "outputs": []
    },
    {
      "cell_type": "code",
      "metadata": {
        "colab": {
          "base_uri": "https://localhost:8080/"
        },
        "id": "5b61c710",
        "outputId": "3a90ddea-e7c8-4630-f38c-6a9fb7593399"
      },
      "source": [
        "dict1 = {\"a\": 1, \"b\": 2}\n",
        "dict2 = {\"c\": 3, \"d\": 4}\n",
        "\n",
        "# Combine the two dictionaries\n",
        "dict1.update(dict2)\n",
        "\n",
        "# Print the combined dictionary\n",
        "print(dict1)"
      ],
      "execution_count": 35,
      "outputs": [
        {
          "output_type": "stream",
          "name": "stdout",
          "text": [
            "{'a': 1, 'b': 2, 'c': 3, 'd': 4}\n"
          ]
        }
      ]
    },
    {
      "cell_type": "markdown",
      "source": [
        "30. Write a code to convert a list of strings into a set."
      ],
      "metadata": {
        "id": "XKtc4NiSwEZp"
      }
    },
    {
      "cell_type": "code",
      "source": [],
      "metadata": {
        "id": "AWGtrtbRumuh"
      },
      "execution_count": null,
      "outputs": []
    },
    {
      "cell_type": "code",
      "metadata": {
        "colab": {
          "base_uri": "https://localhost:8080/"
        },
        "id": "fe5189eb",
        "outputId": "f0b0e342-6aae-4c12-d26e-cba109940a58"
      },
      "source": [
        "my_list = [\"apple\", \"banana\", \"cherry\", \"apple\", \"date\"]\n",
        "my_set = set(my_list)\n",
        "print(my_set)"
      ],
      "execution_count": 36,
      "outputs": [
        {
          "output_type": "stream",
          "name": "stdout",
          "text": [
            "{'cherry', 'date', 'banana', 'apple'}\n"
          ]
        }
      ]
    }
  ]
}